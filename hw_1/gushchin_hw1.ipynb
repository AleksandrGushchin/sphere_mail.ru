{
 "cells": [
  {
   "cell_type": "markdown",
   "metadata": {},
   "source": [
    "**Общая информация**\n",
    "\n",
    "**Срок сдачи:** 20 марта 2019, 06:00 <br\\>\n",
    "**Штраф за опоздание:** -1 балл после 06:00 20 марта, -2 балла после 06:00 27 марта, -3 балла после 06:00 3 апреля\n",
    "\n",
    "При отправлении ДЗ указывайте фамилию в названии файла\n",
    "Присылать ДЗ необходимо в виде ссылки на свой github репозиторий в slack @alkhamush\n",
    "\n",
    "Необходимо в slack скинуть ссылку в личный чат @alkhamush\n",
    "Пример ссылки:\n",
    "https://github.com/stroykova/spheremailru/stroykova_hw1.ipynb \n",
    "\n",
    "\n",
    "Используйте данный Ipython Notebook при оформлении домашнего задания."
   ]
  },
  {
   "cell_type": "markdown",
   "metadata": {},
   "source": [
    "###### Задание 1 (2 баллов)\n",
    "Реализовать KNN в классе MyKNeighborsClassifier (обязательное условие: точность не ниже sklearn реализации)\n",
    "Разберитесь самостоятельно, какая мера расстояния используется в KNeighborsClassifier дефолтно и реализуйте свой алгоритм именно с этой мерой. Самостоятельно разберитесь, как считается score из KNeighborsClassifier и реализуйте аналог в своём классе. Score не должен уступать значению KNN из sklearn\n",
    "\n",
    "###### Задание 2 (2 балла)\n",
    "Добиться скорости работы на fit,  predict и predict_proba сравнимой со sklearn для iris и mnist\n",
    "Для этого используем numpy\n",
    "\n",
    "###### Задание 3 (2 балла)\n",
    "Для iris найдите такой параметр n_neighbors, при котором выдаётся наилучший score. Нарисуйте график зависимости score от n_neighbors\n",
    "\n",
    "###### Задание 4 (3 балла)\n",
    "Добавить algorithm='kd_tree' в реализацию KNN (использовать KDTree из sklearn.neighbors). Значение n_neighbors нужно взять из задания 3. Добиться скорости работы на fit,  predict и predict_proba сравнимой со sklearn для iris и mnist\n",
    "Для этого используем numpy. Score не должен уступать значению KNN из sklearn\n",
    "\n",
    "###### Задание 5 (1 балла)\n",
    "Описать для чего нужны следующие библиотеки/классы/функции (список будет ниже)\n",
    "\n",
    "**Штрафные баллы:**\n",
    "\n",
    "1. Невыполнение PEP8 -1 балл\n",
    "2. Отсутствие фамилии в имени скрипта (скрипт должен называться по аналогии со stroykova_hw1.ipynb) -1 балл\n",
    "3. Все строчки должны быть выполнены. Нужно, чтобы output команды можно было увидеть уже в git'е. В противном случае -1 балл\n",
    "4. При оформлении ДЗ нужно пользоваться данным файлом в качестве шаблона. Не нужно удалять и видоизменять структуру кода и текст. В противном случае -1 балл\n"
   ]
  },
  {
   "cell_type": "code",
   "execution_count": 43,
   "metadata": {},
   "outputs": [],
   "source": [
    "import numpy as np\n",
    "import matplotlib.pyplot as plt\n",
    "\n",
    "import seaborn as sns\n",
    "from sklearn import datasets\n",
    "from sklearn.base import ClassifierMixin\n",
    "from sklearn.datasets import fetch_mldata\n",
    "from sklearn.neighbors.base import NeighborsBase, KNeighborsMixin, SupervisedIntegerMixin \n",
    "from sklearn.model_selection import train_test_split\n",
    "from sklearn.neighbors import KNeighborsClassifier, KDTree\n",
    "#%load_ext pycodestyle_magic\n"
   ]
  },
  {
   "cell_type": "code",
   "execution_count": 44,
   "metadata": {
    "scrolled": true
   },
   "outputs": [],
   "source": [
    "#%%pycodestyle\n",
    "\n",
    "\n",
    "class MyKNeighborsClassifier(NeighborsBase, KNeighborsMixin, SupervisedIntegerMixin, ClassifierMixin):\n",
    "    \n",
    "    def __init__(self, n_neighbors, algorithm='brute'):\n",
    "        self.num_of_neighbors = n_neighbors\n",
    "        self.alg = algorithm\n",
    "    \n",
    "    def fit(self, X, y):\n",
    "        self.X_train = np.array(X).astype(float)\n",
    "        self.y_train = np.array(y).astype(int)\n",
    "        self.num_of_classes = np.unique(self.y_train)\n",
    "        \n",
    "        if self.alg == 'kd_tree':\n",
    "            self.tree = KDTree(X)\n",
    "    \n",
    "    def predict(self, X):\n",
    "        X = np.array(X).astype(float)\n",
    "        \n",
    "        if self.alg == 'brute':\n",
    "            distance = self.get_dist(X)\n",
    "            sort_ind = np.array(self.y_train[np.argsort(distance)[:, : self.num_of_neighbors]])\n",
    "        else:\n",
    "            dist, ind = self.tree.query(X, k=self.num_of_neighbors, return_distance=True)\n",
    "            sort_ind = np.array(y_train[ind])\n",
    "        \n",
    "        return np.apply_along_axis(lambda n: np.bincount(n).argmax(), axis=1, arr=sort_ind)\n",
    "    \n",
    "    def predict_proba(self, X):\n",
    "        X = np.array(X).astype(float)\n",
    "        test_size = X.shape[0]\n",
    "        sum_arr = np.zeros((test_size, self.num_of_classes.shape[0]))\n",
    "        \n",
    "        if self.alg == 'brute':\n",
    "            distance = self.get_dist(X)\n",
    "            ind = np.argsort(distance)[:, :self.num_of_neighbors]\n",
    "        else:\n",
    "            dist, ind = self.tree.query(X, k = self.num_of_neighbors, return_distance = True)\n",
    "            \n",
    "        for i in range(test_size):\n",
    "            for j in ind[i]:\n",
    "                sum_arr[i][self.y_train[j]] += 1\n",
    "\n",
    "        result = sum_arr / self.num_of_neighbors\n",
    "        return result\n",
    "    \n",
    "    def get_dist(self, X):\n",
    "        dist1 = self.X_train ** 2\n",
    "        matrix1 = dist1.sum(axis=1).reshape(1, -1)\n",
    "        dist2 = X ** 2\n",
    "        matrix2 = dist2.sum(axis=1).reshape(-1, 1)\n",
    "        return np.sqrt(matrix2 + matrix1 - 2*np.dot(X, self.X_train.T))\n",
    "    \n",
    "    def score(self, X, y):\n",
    "        diff = self.predict(X) - y\n",
    "        return 1 - np.count_nonzero(diff) / y.shape[0]"
   ]
  },
  {
   "cell_type": "code",
   "execution_count": 245,
   "metadata": {},
   "outputs": [
    {
     "data": {
      "text/plain": [
       "'mvi'"
      ]
     },
     "execution_count": 245,
     "metadata": {},
     "output_type": "execute_result"
    }
   ],
   "source": [
    "\"mvi\""
   ]
  },
  {
   "cell_type": "markdown",
   "metadata": {},
   "source": [
    "**IRIS**"
   ]
  },
  {
   "cell_type": "code",
   "execution_count": 45,
   "metadata": {},
   "outputs": [],
   "source": [
    "iris = datasets.load_iris()"
   ]
  },
  {
   "cell_type": "code",
   "execution_count": 46,
   "metadata": {},
   "outputs": [],
   "source": [
    "X_train, X_test, y_train, y_test = train_test_split(iris.data, iris.target, test_size=0.1, stratify=iris.target)"
   ]
  },
  {
   "cell_type": "code",
   "execution_count": 5,
   "metadata": {},
   "outputs": [],
   "source": [
    "clf = KNeighborsClassifier(n_neighbors=2)\n",
    "my_clf = MyKNeighborsClassifier(n_neighbors=2)"
   ]
  },
  {
   "cell_type": "code",
   "execution_count": 6,
   "metadata": {},
   "outputs": [
    {
     "name": "stdout",
     "output_type": "stream",
     "text": [
      "Wall time: 0 ns\n"
     ]
    },
    {
     "data": {
      "text/plain": [
       "KNeighborsClassifier(algorithm='auto', leaf_size=30, metric='minkowski',\n",
       "           metric_params=None, n_jobs=None, n_neighbors=2, p=2,\n",
       "           weights='uniform')"
      ]
     },
     "execution_count": 6,
     "metadata": {},
     "output_type": "execute_result"
    }
   ],
   "source": [
    "%time clf.fit(X_train, y_train)"
   ]
  },
  {
   "cell_type": "code",
   "execution_count": 7,
   "metadata": {},
   "outputs": [
    {
     "name": "stdout",
     "output_type": "stream",
     "text": [
      "Wall time: 0 ns\n"
     ]
    }
   ],
   "source": [
    "%time my_clf.fit(X_train, y_train)"
   ]
  },
  {
   "cell_type": "code",
   "execution_count": 12,
   "metadata": {},
   "outputs": [
    {
     "name": "stdout",
     "output_type": "stream",
     "text": [
      "Wall time: 0 ns\n"
     ]
    },
    {
     "data": {
      "text/plain": [
       "array([0, 2, 0, 2, 1, 0, 2, 1, 0, 2, 1, 1, 2, 1, 0])"
      ]
     },
     "execution_count": 12,
     "metadata": {},
     "output_type": "execute_result"
    }
   ],
   "source": [
    "%time clf.predict(X_test)"
   ]
  },
  {
   "cell_type": "code",
   "execution_count": 13,
   "metadata": {},
   "outputs": [
    {
     "name": "stdout",
     "output_type": "stream",
     "text": [
      "Wall time: 0 ns\n"
     ]
    },
    {
     "data": {
      "text/plain": [
       "array([0, 2, 0, 2, 1, 0, 2, 1, 0, 2, 1, 1, 2, 1, 0], dtype=int64)"
      ]
     },
     "execution_count": 13,
     "metadata": {},
     "output_type": "execute_result"
    }
   ],
   "source": [
    "%time my_clf.predict(X_test)"
   ]
  },
  {
   "cell_type": "code",
   "execution_count": 10,
   "metadata": {},
   "outputs": [
    {
     "name": "stdout",
     "output_type": "stream",
     "text": [
      "Wall time: 0 ns\n"
     ]
    },
    {
     "data": {
      "text/plain": [
       "array([[1., 0., 0.],\n",
       "       [0., 0., 1.],\n",
       "       [1., 0., 0.],\n",
       "       [0., 0., 1.],\n",
       "       [0., 1., 0.],\n",
       "       [1., 0., 0.],\n",
       "       [0., 0., 1.],\n",
       "       [0., 1., 0.],\n",
       "       [1., 0., 0.],\n",
       "       [0., 0., 1.],\n",
       "       [0., 1., 0.],\n",
       "       [0., 1., 0.],\n",
       "       [0., 0., 1.],\n",
       "       [0., 1., 0.],\n",
       "       [1., 0., 0.]])"
      ]
     },
     "execution_count": 10,
     "metadata": {},
     "output_type": "execute_result"
    }
   ],
   "source": [
    "%time clf.predict_proba(X_test)"
   ]
  },
  {
   "cell_type": "code",
   "execution_count": 14,
   "metadata": {},
   "outputs": [
    {
     "name": "stdout",
     "output_type": "stream",
     "text": [
      "Wall time: 0 ns\n"
     ]
    },
    {
     "data": {
      "text/plain": [
       "array([[1., 0., 0.],\n",
       "       [0., 0., 1.],\n",
       "       [1., 0., 0.],\n",
       "       [0., 0., 1.],\n",
       "       [0., 1., 0.],\n",
       "       [1., 0., 0.],\n",
       "       [0., 0., 1.],\n",
       "       [0., 1., 0.],\n",
       "       [1., 0., 0.],\n",
       "       [0., 0., 1.],\n",
       "       [0., 1., 0.],\n",
       "       [0., 1., 0.],\n",
       "       [0., 0., 1.],\n",
       "       [0., 1., 0.],\n",
       "       [1., 0., 0.]])"
      ]
     },
     "execution_count": 14,
     "metadata": {},
     "output_type": "execute_result"
    }
   ],
   "source": [
    "%time my_clf.predict_proba(X_test)"
   ]
  },
  {
   "cell_type": "code",
   "execution_count": 15,
   "metadata": {},
   "outputs": [
    {
     "data": {
      "text/plain": [
       "1.0"
      ]
     },
     "execution_count": 15,
     "metadata": {},
     "output_type": "execute_result"
    }
   ],
   "source": [
    "clf.score(X_test, y_test)"
   ]
  },
  {
   "cell_type": "code",
   "execution_count": 16,
   "metadata": {},
   "outputs": [
    {
     "data": {
      "text/plain": [
       "1.0"
      ]
     },
     "execution_count": 16,
     "metadata": {},
     "output_type": "execute_result"
    }
   ],
   "source": [
    "my_clf.score(X_test, y_test)"
   ]
  },
  {
   "cell_type": "markdown",
   "metadata": {},
   "source": [
    "Задание 3"
   ]
  },
  {
   "cell_type": "code",
   "execution_count": 47,
   "metadata": {},
   "outputs": [
    {
     "data": {
      "image/png": "[encoded data removed]",
      "text/plain": [
       "<Figure size 432x288 with 1 Axes>"
      ]
     },
     "metadata": {
      "needs_background": "light"
     },
     "output_type": "display_data"
    },
    {
     "name": "stdout",
     "output_type": "stream",
     "text": [
      "Max score with number of neighbors equal  17\n"
     ]
    }
   ],
   "source": [
    "max_num_of_n = 40\n",
    "num_of_tests = 100\n",
    "\n",
    "score_arr = np.zeros(max_num_of_n).astype(float)\n",
    "\n",
    "for i in range(1, max_num_of_n + 1):\n",
    "    sum_of_scores = 0\n",
    "    for j in range(num_of_tests):\n",
    "        X_train, X_test, y_train, y_test = train_test_split(iris.data, iris.target, \n",
    "                                                            test_size=0.1, stratify=iris.target)\n",
    "        \n",
    "        my_clf = MyKNeighborsClassifier(n_neighbors=i)\n",
    "        my_clf.fit(X_train, y_train)\n",
    "        sum_of_scores += my_clf.score(X_test, y_test)\n",
    "    sum_of_scores /= num_of_tests\n",
    "    score_arr[i - 1] += sum_of_scores\n",
    "    \n",
    "score_arr\n",
    "plt.plot(range(1, max_num_of_n+1), score_arr)\n",
    "plt.show()\n",
    "print(\"Max score with number of neighbors equal \", score_arr.argmax() + 1)\n",
    "\n",
    "best_n_of_n = score_arr.argmax() + 1"
   ]
  },
  {
   "cell_type": "markdown",
   "metadata": {},
   "source": [
    "**MNIST**"
   ]
  },
  {
   "cell_type": "code",
   "execution_count": 48,
   "metadata": {},
   "outputs": [],
   "source": [
    "#mnist = fetch_mldata('MNIST original')\n",
    "from mlxtend.data import loadlocal_mnist\n",
    "mnist_X_train, mnist_y_train = loadlocal_mnist(\n",
    "        images_path='C:/c++/Sphere/mnist/train-images.idx3-ubyte', \n",
    "        labels_path='C:/c++/Sphere/mnist/train-labels.idx1-ubyte')\n",
    "mnist_X_test, mnist_y_test = loadlocal_mnist(\n",
    "        images_path='C:/c++/Sphere/mnist/t10k-images.idx3-ubyte',\n",
    "        labels_path='C:/c++/Sphere/mnist/t10k-labels.idx1-ubyte'\n",
    "    )\n",
    "\n"
   ]
  },
  {
   "cell_type": "code",
   "execution_count": 49,
   "metadata": {},
   "outputs": [],
   "source": [
    "X_train, y_train, X_test, y_test = mnist_X_train, mnist_y_train, mnist_X_test, mnist_y_test"
   ]
  },
  {
   "cell_type": "code",
   "execution_count": 23,
   "metadata": {},
   "outputs": [],
   "source": [
    "X_train, X_test, y_train, y_test = train_test_split(mnist_X_train, mnist_y_train, test_size = 0.01, stratify=mnist_y_train)"
   ]
  },
  {
   "cell_type": "code",
   "execution_count": 24,
   "metadata": {},
   "outputs": [],
   "source": [
    "clf = KNeighborsClassifier(n_neighbors=2)\n",
    "my_clf = MyKNeighborsClassifier(n_neighbors=2)"
   ]
  },
  {
   "cell_type": "code",
   "execution_count": 25,
   "metadata": {},
   "outputs": [
    {
     "name": "stdout",
     "output_type": "stream",
     "text": [
      "Wall time: 33.5 s\n"
     ]
    },
    {
     "data": {
      "text/plain": [
       "KNeighborsClassifier(algorithm='auto', leaf_size=30, metric='minkowski',\n",
       "           metric_params=None, n_jobs=None, n_neighbors=2, p=2,\n",
       "           weights='uniform')"
      ]
     },
     "execution_count": 25,
     "metadata": {},
     "output_type": "execute_result"
    }
   ],
   "source": [
    "%time clf.fit(X_train, y_train)"
   ]
  },
  {
   "cell_type": "code",
   "execution_count": 26,
   "metadata": {},
   "outputs": [
    {
     "name": "stdout",
     "output_type": "stream",
     "text": [
      "Wall time: 844 ms\n"
     ]
    }
   ],
   "source": [
    "%time my_clf.fit(X_train, y_train)"
   ]
  },
  {
   "cell_type": "code",
   "execution_count": 27,
   "metadata": {},
   "outputs": [
    {
     "name": "stdout",
     "output_type": "stream",
     "text": [
      "Wall time: 1min 5s\n"
     ]
    },
    {
     "data": {
      "text/plain": [
       "array([2, 2, 8, 4, 0, 6, 0, 5, 8, 0, 9, 5, 3, 2, 7, 3, 3, 1, 7, 9, 1, 6,\n",
       "       7, 8, 8, 9, 6, 8, 6, 6, 6, 2, 3, 2, 5, 0, 5, 1, 9, 5, 7, 6, 6, 3,\n",
       "       1, 4, 5, 9, 4, 0, 5, 0, 3, 2, 4, 2, 2, 3, 0, 5, 0, 1, 3, 2, 4, 4,\n",
       "       5, 6, 6, 9, 9, 1, 6, 7, 9, 3, 3, 3, 7, 3, 9, 1, 8, 4, 5, 1, 8, 7,\n",
       "       9, 3, 7, 7, 9, 5, 7, 2, 9, 4, 9, 5, 2, 8, 3, 9, 0, 7, 6, 0, 1, 6,\n",
       "       4, 4, 8, 9, 0, 9, 1, 7, 4, 2, 1, 6, 8, 2, 2, 0, 0, 7, 6, 5, 9, 7,\n",
       "       5, 9, 4, 3, 7, 3, 4, 5, 3, 4, 4, 0, 7, 3, 1, 1, 1, 1, 3, 3, 9, 1,\n",
       "       1, 6, 7, 0, 6, 7, 2, 4, 9, 7, 0, 5, 4, 7, 1, 8, 1, 4, 0, 8, 2, 5,\n",
       "       2, 3, 6, 3, 6, 3, 8, 3, 7, 6, 0, 7, 4, 9, 0, 4, 8, 9, 1, 4, 8, 3,\n",
       "       0, 8, 6, 0, 7, 6, 9, 7, 9, 2, 0, 7, 8, 9, 1, 8, 6, 6, 7, 9, 9, 9,\n",
       "       6, 7, 7, 1, 4, 0, 8, 1, 6, 0, 7, 5, 7, 7, 1, 9, 4, 4, 4, 1, 7, 8,\n",
       "       2, 4, 0, 1, 6, 9, 0, 4, 6, 6, 2, 0, 6, 7, 9, 7, 9, 1, 3, 2, 1, 7,\n",
       "       0, 7, 2, 9, 8, 3, 6, 9, 2, 0, 6, 6, 8, 1, 6, 2, 0, 8, 5, 8, 5, 0,\n",
       "       7, 2, 8, 7, 8, 8, 7, 6, 2, 6, 4, 7, 1, 2, 3, 9, 7, 1, 7, 0, 1, 5,\n",
       "       3, 4, 1, 3, 1, 7, 3, 9, 8, 2, 3, 9, 6, 1, 3, 5, 3, 7, 1, 3, 7, 1,\n",
       "       5, 5, 6, 8, 8, 6, 1, 4, 8, 4, 2, 7, 0, 5, 7, 6, 5, 4, 2, 3, 1, 6,\n",
       "       4, 0, 2, 1, 3, 3, 4, 0, 4, 4, 2, 0, 7, 1, 9, 1, 8, 1, 9, 7, 8, 4,\n",
       "       5, 1, 6, 9, 7, 8, 4, 9, 5, 4, 2, 6, 0, 8, 8, 5, 5, 2, 0, 0, 1, 2,\n",
       "       9, 6, 0, 1, 3, 8, 7, 3, 6, 5, 1, 5, 3, 6, 8, 6, 3, 8, 6, 2, 1, 1,\n",
       "       7, 4, 2, 6, 5, 7, 1, 6, 3, 5, 9, 8, 5, 3, 3, 7, 3, 5, 1, 2, 2, 2,\n",
       "       2, 9, 3, 1, 3, 9, 5, 8, 1, 8, 5, 4, 4, 1, 5, 2, 9, 0, 5, 0, 2, 2,\n",
       "       2, 1, 1, 0, 2, 8, 4, 4, 0, 2, 6, 4, 4, 6, 5, 3, 8, 0, 4, 1, 8, 2,\n",
       "       5, 0, 3, 0, 2, 8, 3, 8, 9, 6, 1, 3, 7, 8, 2, 7, 9, 7, 4, 6, 0, 4,\n",
       "       9, 1, 4, 2, 1, 7, 4, 4, 1, 9, 1, 1, 2, 4, 9, 9, 4, 5, 1, 4, 5, 9,\n",
       "       2, 8, 3, 0, 2, 3, 1, 0, 5, 5, 1, 3, 6, 6, 8, 0, 4, 9, 2, 5, 4, 5,\n",
       "       3, 4, 5, 9, 7, 2, 0, 6, 2, 1, 8, 6, 8, 5, 7, 7, 0, 8, 0, 4, 0, 7,\n",
       "       0, 3, 3, 7, 9, 5, 5, 1, 7, 0, 3, 0, 9, 6, 5, 3, 5, 4, 0, 0, 1, 3,\n",
       "       8, 3, 1, 0, 9, 2], dtype=uint8)"
      ]
     },
     "execution_count": 27,
     "metadata": {},
     "output_type": "execute_result"
    }
   ],
   "source": [
    "%time clf.predict(X_test)"
   ]
  },
  {
   "cell_type": "code",
   "execution_count": 28,
   "metadata": {},
   "outputs": [
    {
     "name": "stdout",
     "output_type": "stream",
     "text": [
      "Wall time: 22.1 s\n"
     ]
    },
    {
     "data": {
      "text/plain": [
       "array([2, 2, 8, 4, 0, 6, 0, 5, 8, 0, 9, 5, 3, 2, 7, 3, 3, 1, 7, 9, 1, 6,\n",
       "       7, 8, 8, 9, 6, 8, 6, 6, 6, 2, 3, 2, 5, 0, 5, 1, 9, 5, 7, 6, 6, 3,\n",
       "       1, 4, 5, 9, 4, 0, 5, 0, 3, 2, 4, 2, 2, 3, 0, 5, 0, 1, 3, 2, 4, 4,\n",
       "       5, 6, 6, 9, 9, 1, 6, 7, 9, 3, 3, 3, 7, 3, 9, 1, 8, 4, 5, 1, 8, 7,\n",
       "       9, 3, 7, 7, 9, 5, 7, 2, 9, 4, 9, 5, 2, 8, 3, 9, 0, 7, 6, 0, 1, 6,\n",
       "       4, 4, 8, 9, 0, 9, 1, 7, 4, 2, 1, 6, 8, 2, 2, 0, 0, 7, 6, 5, 9, 7,\n",
       "       5, 9, 4, 3, 7, 3, 4, 5, 3, 4, 4, 0, 7, 3, 1, 1, 1, 1, 3, 3, 9, 1,\n",
       "       1, 6, 7, 0, 6, 7, 2, 4, 9, 7, 0, 5, 4, 7, 1, 8, 1, 4, 0, 8, 2, 5,\n",
       "       2, 3, 6, 3, 6, 3, 8, 3, 7, 6, 0, 7, 4, 9, 0, 4, 8, 9, 1, 4, 8, 3,\n",
       "       0, 8, 6, 0, 7, 6, 9, 7, 9, 2, 0, 7, 8, 9, 1, 8, 6, 6, 7, 9, 9, 9,\n",
       "       6, 7, 7, 1, 4, 0, 8, 1, 6, 0, 7, 5, 7, 7, 1, 9, 4, 4, 4, 1, 7, 8,\n",
       "       2, 4, 0, 1, 6, 9, 0, 4, 6, 6, 2, 0, 6, 7, 9, 7, 9, 1, 3, 2, 1, 7,\n",
       "       0, 7, 2, 9, 8, 3, 6, 9, 2, 0, 6, 6, 8, 1, 6, 2, 0, 8, 5, 8, 5, 0,\n",
       "       7, 2, 8, 7, 8, 8, 7, 6, 2, 6, 4, 7, 1, 2, 3, 9, 7, 1, 7, 0, 1, 5,\n",
       "       3, 4, 1, 3, 1, 7, 3, 9, 8, 2, 3, 9, 6, 1, 3, 5, 3, 7, 1, 3, 7, 1,\n",
       "       5, 5, 6, 8, 8, 6, 1, 4, 8, 4, 2, 7, 0, 5, 7, 6, 5, 4, 2, 3, 1, 6,\n",
       "       4, 0, 2, 1, 3, 3, 4, 0, 4, 4, 2, 0, 7, 1, 9, 1, 8, 1, 9, 7, 8, 4,\n",
       "       5, 1, 6, 9, 7, 8, 4, 9, 5, 4, 2, 6, 0, 8, 8, 5, 5, 2, 0, 0, 1, 2,\n",
       "       9, 6, 0, 1, 3, 8, 7, 3, 6, 5, 1, 5, 3, 6, 8, 6, 3, 8, 6, 2, 1, 1,\n",
       "       7, 4, 2, 6, 5, 7, 1, 6, 3, 5, 9, 8, 5, 3, 3, 7, 3, 5, 1, 2, 2, 2,\n",
       "       2, 9, 3, 1, 3, 9, 5, 8, 1, 8, 5, 4, 4, 1, 5, 2, 9, 0, 5, 0, 2, 2,\n",
       "       2, 1, 1, 0, 2, 8, 4, 4, 0, 2, 6, 4, 4, 6, 5, 3, 8, 0, 4, 1, 8, 2,\n",
       "       5, 0, 3, 0, 2, 8, 3, 8, 9, 6, 1, 3, 7, 8, 2, 7, 9, 7, 4, 6, 0, 4,\n",
       "       9, 1, 4, 2, 1, 7, 4, 4, 1, 9, 1, 1, 2, 4, 9, 9, 4, 5, 1, 4, 5, 9,\n",
       "       2, 8, 3, 0, 2, 3, 1, 0, 5, 5, 1, 3, 6, 6, 8, 0, 4, 9, 2, 5, 4, 5,\n",
       "       3, 4, 5, 9, 7, 2, 0, 6, 2, 1, 8, 6, 8, 5, 7, 7, 0, 8, 0, 4, 0, 7,\n",
       "       0, 3, 3, 7, 9, 5, 5, 1, 7, 0, 3, 0, 9, 6, 5, 3, 5, 4, 0, 0, 1, 3,\n",
       "       8, 3, 1, 0, 9, 2], dtype=int64)"
      ]
     },
     "execution_count": 28,
     "metadata": {},
     "output_type": "execute_result"
    }
   ],
   "source": [
    "%time my_clf.predict(X_test)"
   ]
  },
  {
   "cell_type": "code",
   "execution_count": 29,
   "metadata": {},
   "outputs": [
    {
     "name": "stdout",
     "output_type": "stream",
     "text": [
      "Wall time: 1min 6s\n"
     ]
    },
    {
     "data": {
      "text/plain": [
       "array([[0., 0., 1., ..., 0., 0., 0.],\n",
       "       [0., 0., 1., ..., 0., 0., 0.],\n",
       "       [0., 0., 0., ..., 0., 1., 0.],\n",
       "       ...,\n",
       "       [1., 0., 0., ..., 0., 0., 0.],\n",
       "       [0., 0., 0., ..., 0., 0., 1.],\n",
       "       [0., 0., 1., ..., 0., 0., 0.]])"
      ]
     },
     "execution_count": 29,
     "metadata": {},
     "output_type": "execute_result"
    }
   ],
   "source": [
    "%time clf.predict_proba(X_test)"
   ]
  },
  {
   "cell_type": "code",
   "execution_count": 30,
   "metadata": {},
   "outputs": [
    {
     "name": "stdout",
     "output_type": "stream",
     "text": [
      "Wall time: 12.6 s\n"
     ]
    },
    {
     "data": {
      "text/plain": [
       "array([[0., 0., 1., ..., 0., 0., 0.],\n",
       "       [0., 0., 1., ..., 0., 0., 0.],\n",
       "       [0., 0., 0., ..., 0., 1., 0.],\n",
       "       ...,\n",
       "       [1., 0., 0., ..., 0., 0., 0.],\n",
       "       [0., 0., 0., ..., 0., 0., 1.],\n",
       "       [0., 0., 1., ..., 0., 0., 0.]])"
      ]
     },
     "execution_count": 30,
     "metadata": {},
     "output_type": "execute_result"
    }
   ],
   "source": [
    "%time my_clf.predict_proba(X_test)"
   ]
  },
  {
   "cell_type": "code",
   "execution_count": 41,
   "metadata": {},
   "outputs": [
    {
     "data": {
      "text/plain": [
       "0.9866666666666667"
      ]
     },
     "execution_count": 41,
     "metadata": {},
     "output_type": "execute_result"
    }
   ],
   "source": [
    "clf.score(X_test, y_test)"
   ]
  },
  {
   "cell_type": "code",
   "execution_count": 26,
   "metadata": {},
   "outputs": [
    {
     "data": {
      "text/plain": [
       "0.9883333333333333"
      ]
     },
     "execution_count": 26,
     "metadata": {},
     "output_type": "execute_result"
    }
   ],
   "source": [
    "my_clf.score(X_test, y_test)"
   ]
  },
  {
   "cell_type": "markdown",
   "metadata": {},
   "source": [
    "Задание 4"
   ]
  },
  {
   "cell_type": "code",
   "execution_count": 50,
   "metadata": {},
   "outputs": [],
   "source": [
    "clf = KNeighborsClassifier(n_neighbors=best_n_of_n, algorithm='kd_tree')\n",
    "my_clf = MyKNeighborsClassifier(n_neighbors=best_n_of_n, algorithm='kd_tree')"
   ]
  },
  {
   "cell_type": "code",
   "execution_count": 51,
   "metadata": {},
   "outputs": [],
   "source": [
    "X_train, X_test, y_train, y_test = train_test_split(mnist_X_train, mnist_y_train,\n",
    "                                                    test_size=0.01, stratify=mnist_y_train)"
   ]
  },
  {
   "cell_type": "code",
   "execution_count": 52,
   "metadata": {},
   "outputs": [
    {
     "name": "stdout",
     "output_type": "stream",
     "text": [
      "Wall time: 32.5 s\n"
     ]
    },
    {
     "data": {
      "text/plain": [
       "KNeighborsClassifier(algorithm='kd_tree', leaf_size=30, metric='minkowski',\n",
       "           metric_params=None, n_jobs=None, n_neighbors=17, p=2,\n",
       "           weights='uniform')"
      ]
     },
     "execution_count": 52,
     "metadata": {},
     "output_type": "execute_result"
    }
   ],
   "source": [
    "%time clf.fit(X_train, y_train)"
   ]
  },
  {
   "cell_type": "code",
   "execution_count": 53,
   "metadata": {},
   "outputs": [
    {
     "name": "stdout",
     "output_type": "stream",
     "text": [
      "Wall time: 41.1 s\n"
     ]
    }
   ],
   "source": [
    "%time my_clf.fit(X_train, y_train)"
   ]
  },
  {
   "cell_type": "code",
   "execution_count": 54,
   "metadata": {},
   "outputs": [
    {
     "name": "stdout",
     "output_type": "stream",
     "text": [
      "Wall time: 1min 3s\n"
     ]
    },
    {
     "data": {
      "text/plain": [
       "array([1, 2, 1, 7, 2, 5, 0, 3, 7, 1, 6, 0, 4, 8, 7, 5, 7, 9, 8, 3, 4, 2,\n",
       "       3, 4, 8, 1, 4, 8, 0, 7, 8, 1, 2, 3, 3, 3, 6, 6, 6, 6, 2, 0, 9, 5,\n",
       "       8, 9, 6, 3, 9, 9, 6, 5, 9, 8, 1, 7, 2, 6, 1, 4, 5, 0, 9, 4, 1, 6,\n",
       "       4, 2, 4, 4, 4, 7, 6, 0, 4, 2, 0, 6, 8, 9, 1, 1, 7, 8, 1, 1, 2, 3,\n",
       "       6, 3, 1, 1, 6, 7, 0, 9, 7, 1, 6, 7, 5, 1, 8, 2, 2, 7, 5, 9, 0, 0,\n",
       "       7, 4, 4, 3, 0, 3, 8, 9, 4, 6, 5, 0, 1, 0, 4, 1, 0, 2, 9, 9, 5, 3,\n",
       "       2, 8, 4, 2, 3, 0, 2, 8, 5, 3, 1, 8, 4, 1, 3, 4, 0, 5, 3, 8, 4, 7,\n",
       "       8, 6, 2, 5, 8, 5, 8, 9, 9, 3, 2, 6, 0, 2, 6, 1, 5, 4, 3, 7, 5, 1,\n",
       "       0, 7, 9, 4, 0, 7, 1, 6, 2, 6, 4, 7, 0, 4, 6, 7, 4, 6, 6, 8, 0, 7,\n",
       "       2, 5, 5, 5, 8, 1, 8, 6, 8, 6, 5, 3, 7, 0, 2, 1, 6, 4, 1, 1, 7, 1,\n",
       "       4, 9, 2, 5, 1, 3, 9, 9, 5, 1, 6, 5, 1, 3, 8, 1, 8, 0, 0, 2, 6, 0,\n",
       "       0, 3, 1, 2, 0, 5, 6, 3, 1, 1, 9, 2, 5, 7, 5, 2, 9, 8, 1, 1, 1, 8,\n",
       "       0, 7, 5, 6, 0, 1, 2, 7, 5, 3, 3, 4, 4, 7, 8, 5, 8, 4, 5, 9, 3, 9,\n",
       "       0, 7, 5, 3, 3, 8, 1, 4, 3, 8, 5, 2, 1, 1, 4, 2, 4, 5, 9, 8, 1, 6,\n",
       "       3, 3, 7, 7, 3, 6, 8, 3, 4, 4, 5, 5, 1, 0, 7, 7, 8, 0, 3, 9, 0, 6,\n",
       "       7, 8, 6, 4, 4, 0, 2, 1, 0, 4, 6, 6, 6, 5, 9, 9, 4, 3, 6, 5, 9, 1,\n",
       "       4, 3, 7, 1, 3, 0, 6, 6, 4, 8, 1, 6, 2, 2, 2, 2, 0, 0, 2, 4, 8, 1,\n",
       "       0, 9, 4, 9, 8, 8, 6, 1, 8, 3, 3, 7, 5, 1, 2, 5, 3, 9, 7, 6, 0, 4,\n",
       "       7, 1, 8, 4, 4, 3, 7, 7, 6, 7, 9, 2, 8, 2, 9, 7, 0, 0, 7, 3, 3, 9,\n",
       "       8, 8, 3, 7, 3, 3, 2, 3, 0, 4, 1, 1, 4, 6, 7, 1, 9, 8, 3, 7, 4, 1,\n",
       "       8, 9, 2, 3, 5, 7, 0, 9, 0, 4, 2, 5, 7, 0, 0, 2, 0, 8, 5, 3, 3, 7,\n",
       "       7, 4, 7, 4, 3, 5, 6, 9, 2, 0, 7, 2, 6, 9, 8, 3, 1, 2, 1, 8, 9, 6,\n",
       "       5, 1, 2, 6, 6, 2, 7, 7, 2, 9, 1, 3, 5, 3, 7, 0, 0, 2, 0, 6, 1, 4,\n",
       "       7, 7, 1, 1, 6, 4, 8, 5, 9, 4, 6, 1, 9, 5, 9, 1, 6, 6, 8, 0, 5, 2,\n",
       "       1, 9, 1, 1, 7, 0, 8, 0, 5, 4, 9, 9, 3, 4, 2, 8, 8, 5, 5, 3, 2, 6,\n",
       "       1, 6, 1, 1, 3, 1, 2, 6, 3, 2, 5, 0, 7, 2, 0, 3, 6, 0, 6, 9, 7, 9,\n",
       "       5, 7, 7, 6, 7, 6, 7, 8, 3, 3, 9, 4, 8, 9, 1, 0, 9, 3, 8, 5, 7, 5,\n",
       "       3, 9, 7, 4, 8, 9], dtype=uint8)"
      ]
     },
     "execution_count": 54,
     "metadata": {},
     "output_type": "execute_result"
    }
   ],
   "source": [
    "%time clf.predict(X_test)"
   ]
  },
  {
   "cell_type": "code",
   "execution_count": 55,
   "metadata": {},
   "outputs": [
    {
     "name": "stdout",
     "output_type": "stream",
     "text": [
      "Wall time: 1min 4s\n"
     ]
    },
    {
     "data": {
      "text/plain": [
       "array([1, 2, 1, 7, 2, 5, 0, 3, 7, 1, 6, 0, 4, 8, 7, 5, 7, 9, 8, 3, 4, 2,\n",
       "       3, 4, 8, 1, 4, 8, 0, 7, 8, 1, 2, 3, 3, 3, 6, 6, 6, 6, 2, 0, 9, 5,\n",
       "       8, 9, 6, 3, 9, 9, 6, 5, 9, 8, 1, 7, 2, 6, 1, 4, 5, 0, 9, 4, 1, 6,\n",
       "       4, 2, 4, 4, 4, 7, 6, 0, 4, 2, 0, 6, 8, 9, 1, 1, 7, 8, 1, 1, 2, 3,\n",
       "       6, 3, 1, 1, 6, 7, 0, 9, 7, 1, 6, 7, 5, 1, 8, 2, 2, 7, 5, 9, 0, 0,\n",
       "       7, 4, 4, 3, 0, 3, 8, 9, 4, 6, 5, 0, 1, 0, 4, 1, 0, 2, 9, 9, 5, 3,\n",
       "       2, 8, 4, 2, 3, 0, 2, 8, 5, 3, 1, 8, 4, 1, 3, 4, 0, 5, 3, 8, 4, 7,\n",
       "       8, 6, 2, 5, 8, 5, 8, 9, 9, 3, 2, 6, 0, 2, 6, 1, 5, 4, 3, 7, 5, 1,\n",
       "       0, 7, 9, 4, 0, 7, 1, 6, 2, 6, 4, 7, 0, 4, 6, 7, 4, 6, 6, 8, 0, 7,\n",
       "       2, 5, 5, 5, 8, 1, 8, 6, 8, 6, 5, 3, 7, 0, 2, 1, 6, 4, 1, 1, 7, 1,\n",
       "       4, 9, 2, 5, 1, 3, 9, 9, 5, 1, 6, 5, 1, 3, 8, 1, 8, 0, 0, 2, 6, 0,\n",
       "       0, 3, 1, 2, 0, 5, 6, 3, 1, 1, 9, 2, 5, 7, 5, 2, 9, 8, 1, 1, 1, 8,\n",
       "       0, 7, 5, 6, 0, 1, 2, 7, 5, 3, 3, 4, 4, 7, 8, 5, 8, 4, 5, 9, 3, 9,\n",
       "       0, 7, 5, 3, 3, 8, 1, 4, 3, 8, 5, 2, 1, 1, 4, 2, 4, 5, 9, 8, 1, 6,\n",
       "       3, 3, 7, 7, 3, 6, 8, 3, 4, 4, 5, 5, 1, 0, 7, 7, 8, 0, 3, 9, 0, 6,\n",
       "       7, 8, 6, 4, 4, 0, 2, 1, 0, 4, 6, 6, 6, 5, 9, 9, 4, 3, 6, 5, 9, 1,\n",
       "       4, 3, 7, 1, 3, 0, 6, 6, 4, 8, 1, 6, 2, 2, 2, 2, 0, 0, 2, 4, 8, 1,\n",
       "       0, 9, 4, 9, 8, 8, 6, 1, 8, 3, 3, 7, 5, 1, 2, 5, 3, 9, 7, 6, 0, 4,\n",
       "       7, 1, 8, 4, 4, 3, 7, 7, 6, 7, 9, 2, 8, 2, 9, 7, 0, 0, 7, 3, 3, 9,\n",
       "       8, 8, 3, 7, 3, 3, 2, 3, 0, 4, 1, 1, 4, 6, 7, 1, 9, 8, 3, 7, 4, 1,\n",
       "       8, 9, 2, 3, 5, 7, 0, 9, 0, 4, 2, 5, 7, 0, 0, 2, 0, 8, 5, 3, 3, 7,\n",
       "       7, 4, 7, 4, 3, 5, 6, 9, 2, 0, 7, 2, 6, 9, 8, 3, 1, 2, 1, 8, 9, 6,\n",
       "       5, 1, 2, 6, 6, 2, 7, 7, 2, 9, 1, 3, 5, 3, 7, 0, 0, 2, 0, 6, 1, 4,\n",
       "       7, 7, 1, 1, 6, 4, 8, 5, 9, 4, 6, 1, 9, 5, 9, 1, 6, 6, 8, 0, 5, 2,\n",
       "       1, 9, 1, 1, 7, 0, 8, 0, 5, 4, 9, 9, 3, 4, 2, 8, 8, 5, 5, 3, 2, 6,\n",
       "       1, 6, 1, 1, 3, 1, 2, 6, 3, 2, 5, 0, 7, 2, 0, 3, 6, 0, 6, 9, 7, 9,\n",
       "       5, 7, 7, 6, 7, 6, 7, 8, 3, 3, 9, 4, 8, 9, 1, 0, 9, 3, 8, 5, 7, 5,\n",
       "       3, 9, 7, 4, 8, 9], dtype=int64)"
      ]
     },
     "execution_count": 55,
     "metadata": {},
     "output_type": "execute_result"
    }
   ],
   "source": [
    "%time my_clf.predict(X_test)"
   ]
  },
  {
   "cell_type": "code",
   "execution_count": 56,
   "metadata": {},
   "outputs": [
    {
     "name": "stdout",
     "output_type": "stream",
     "text": [
      "Wall time: 1min 2s\n"
     ]
    },
    {
     "data": {
      "text/plain": [
       "array([[0.        , 1.        , 0.        , ..., 0.        , 0.        ,\n",
       "        0.        ],\n",
       "       [0.        , 0.        , 1.        , ..., 0.        , 0.        ,\n",
       "        0.        ],\n",
       "       [0.        , 0.70588235, 0.17647059, ..., 0.        , 0.        ,\n",
       "        0.        ],\n",
       "       ...,\n",
       "       [0.        , 0.        , 0.        , ..., 0.        , 0.        ,\n",
       "        0.        ],\n",
       "       [0.        , 0.        , 0.        , ..., 0.        , 0.94117647,\n",
       "        0.        ],\n",
       "       [0.        , 0.        , 0.        , ..., 0.        , 0.        ,\n",
       "        1.        ]])"
      ]
     },
     "execution_count": 56,
     "metadata": {},
     "output_type": "execute_result"
    }
   ],
   "source": [
    "%time clf.predict_proba(X_test)"
   ]
  },
  {
   "cell_type": "code",
   "execution_count": 57,
   "metadata": {},
   "outputs": [
    {
     "name": "stdout",
     "output_type": "stream",
     "text": [
      "Wall time: 1min 6s\n"
     ]
    },
    {
     "data": {
      "text/plain": [
       "array([[0.        , 1.        , 0.        , ..., 0.        , 0.        ,\n",
       "        0.        ],\n",
       "       [0.        , 0.        , 1.        , ..., 0.        , 0.        ,\n",
       "        0.        ],\n",
       "       [0.        , 0.70588235, 0.17647059, ..., 0.        , 0.        ,\n",
       "        0.        ],\n",
       "       ...,\n",
       "       [0.        , 0.        , 0.        , ..., 0.        , 0.        ,\n",
       "        0.        ],\n",
       "       [0.        , 0.        , 0.        , ..., 0.        , 0.94117647,\n",
       "        0.        ],\n",
       "       [0.        , 0.        , 0.        , ..., 0.        , 0.        ,\n",
       "        1.        ]])"
      ]
     },
     "execution_count": 57,
     "metadata": {},
     "output_type": "execute_result"
    }
   ],
   "source": [
    "%time my_clf.predict_proba(X_test)"
   ]
  },
  {
   "cell_type": "code",
   "execution_count": 58,
   "metadata": {},
   "outputs": [
    {
     "data": {
      "text/plain": [
       "0.9583333333333334"
      ]
     },
     "execution_count": 58,
     "metadata": {},
     "output_type": "execute_result"
    }
   ],
   "source": [
    "clf.score(X_test, y_test)"
   ]
  },
  {
   "cell_type": "code",
   "execution_count": 59,
   "metadata": {},
   "outputs": [
    {
     "data": {
      "text/plain": [
       "0.9583333333333334"
      ]
     },
     "execution_count": 59,
     "metadata": {},
     "output_type": "execute_result"
    }
   ],
   "source": [
    "my_clf.score(X_test, y_test)"
   ]
  },
  {
   "cell_type": "markdown",
   "metadata": {},
   "source": [
    "Задание 5"
   ]
  },
  {
   "cell_type": "code",
   "execution_count": null,
   "metadata": {},
   "outputs": [],
   "source": [
    "# seaborn - библиотека для простой визуализации данных, намного проще matplotlib\n",
    "# matplotlib - тоже библиотека для визуализации, полнее и сложнее seaborn\n",
    "# train_test_split - функция для разделения данных на train-set и test-set\n",
    "# Pipelin%load_ext e (from sklearn.pipeline import Pipeline) - конструкци для загрузки расширений в юпитер\n",
    "# StandardScaler (from sklearn.preprocessing import StandardScaler) - класс для независимой стандартизации фичей\n",
    "# ClassifierMixin - класс, рассчитывающий score для классификаторов\n",
    "# NeighborsBase - базовый класс для поиска ближайших соседей\n",
    "# KNeighborsMixin - класс для поиска ближайших к соседей\n",
    "# SupervisedIntegerMixin - класс для обучения модели (с помощью метода fit)"
   ]
  }
 ],
 "metadata": {
  "kernelspec": {
   "display_name": "Python 3",
   "language": "python",
   "name": "python3"
  },
  "language_info": {
   "codemirror_mode": {
    "name": "ipython",
    "version": 3
   },
   "file_extension": ".py",
   "mimetype": "text/x-python",
   "name": "python",
   "nbconvert_exporter": "python",
   "pygments_lexer": "ipython3",
   "version": "3.7.1"
  }
 },
 "nbformat": 4,
 "nbformat_minor": 2
}
